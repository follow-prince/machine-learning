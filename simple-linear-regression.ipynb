{
 "cells": [
  {
   "cell_type": "markdown",
   "id": "404ae9cc",
   "metadata": {
    "papermill": {
     "duration": 0.010728,
     "end_time": "2022-08-28T11:19:52.340186",
     "exception": false,
     "start_time": "2022-08-28T11:19:52.329458",
     "status": "completed"
    },
    "tags": []
   },
   "source": [
    "# Simple Lineal Regression"
   ]
  },
  {
   "cell_type": "markdown",
   "id": "de825e00",
   "metadata": {
    "papermill": {
     "duration": 0.00861,
     "end_time": "2022-08-28T11:19:52.357992",
     "exception": false,
     "start_time": "2022-08-28T11:19:52.349382",
     "status": "completed"
    },
    "tags": []
   },
   "source": [
    "In this notebook, I will create a simple linear regression model. We will also plot the dependence of the X parameter on the Y parameter and calculate the main metrics"
   ]
  },
  {
   "cell_type": "code",
   "execution_count": 1,
   "id": "5d3f74dc",
   "metadata": {
    "execution": {
     "iopub.execute_input": "2022-08-28T11:19:52.379358Z",
     "iopub.status.busy": "2022-08-28T11:19:52.378710Z",
     "iopub.status.idle": "2022-08-28T11:19:53.684160Z",
     "shell.execute_reply": "2022-08-28T11:19:53.683126Z"
    },
    "papermill": {
     "duration": 1.319669,
     "end_time": "2022-08-28T11:19:53.687120",
     "exception": false,
     "start_time": "2022-08-28T11:19:52.367451",
     "status": "completed"
    },
    "tags": []
   },
   "outputs": [],
   "source": [
    "import pandas as pd # data Anasysis \n",
    "import numpy as np # mathmatics \n",
    "import matplotlib.pyplot as plt # simple graph\n",
    "from sklearn.linear_model import LinearRegression # all algrithms \n",
    "from sklearn.model_selection import train_test_split\n",
    "from sklearn.metrics import r2_score\n",
    "from sklearn.metrics import mean_squared_error"
   ]
  },
  {
   "cell_type": "code",
   "execution_count": 2,
   "id": "599609b6",
   "metadata": {
    "execution": {
     "iopub.execute_input": "2022-08-28T11:19:53.707085Z",
     "iopub.status.busy": "2022-08-28T11:19:53.706408Z",
     "iopub.status.idle": "2022-08-28T11:19:53.727106Z",
     "shell.execute_reply": "2022-08-28T11:19:53.725933Z"
    },
    "papermill": {
     "duration": 0.033858,
     "end_time": "2022-08-28T11:19:53.730069",
     "exception": false,
     "start_time": "2022-08-28T11:19:53.696211",
     "status": "completed"
    },
    "tags": []
   },
   "outputs": [],
   "source": [
    "df = pd.read_csv('/home/prince/Desktop/projects/machine-learning/data-set-1.csv')"
   ]
  },
  {
   "cell_type": "code",
   "execution_count": 3,
   "id": "2bfa87d3",
   "metadata": {
    "execution": {
     "iopub.execute_input": "2022-08-28T11:19:53.749953Z",
     "iopub.status.busy": "2022-08-28T11:19:53.749294Z",
     "iopub.status.idle": "2022-08-28T11:19:53.770404Z",
     "shell.execute_reply": "2022-08-28T11:19:53.769145Z"
    },
    "papermill": {
     "duration": 0.033671,
     "end_time": "2022-08-28T11:19:53.772718",
     "exception": false,
     "start_time": "2022-08-28T11:19:53.739047",
     "status": "completed"
    },
    "tags": []
   },
   "outputs": [
    {
     "data": {
      "text/html": [
       "<div>\n",
       "<style scoped>\n",
       "    .dataframe tbody tr th:only-of-type {\n",
       "        vertical-align: middle;\n",
       "    }\n",
       "\n",
       "    .dataframe tbody tr th {\n",
       "        vertical-align: top;\n",
       "    }\n",
       "\n",
       "    .dataframe thead th {\n",
       "        text-align: right;\n",
       "    }\n",
       "</style>\n",
       "<table border=\"1\" class=\"dataframe\">\n",
       "  <thead>\n",
       "    <tr style=\"text-align: right;\">\n",
       "      <th></th>\n",
       "      <th>X</th>\n",
       "      <th>Y</th>\n",
       "    </tr>\n",
       "  </thead>\n",
       "  <tbody>\n",
       "    <tr>\n",
       "      <th>290</th>\n",
       "      <td>291</td>\n",
       "      <td>197.222222</td>\n",
       "    </tr>\n",
       "    <tr>\n",
       "      <th>291</th>\n",
       "      <td>292</td>\n",
       "      <td>197.888889</td>\n",
       "    </tr>\n",
       "    <tr>\n",
       "      <th>292</th>\n",
       "      <td>293</td>\n",
       "      <td>198.555556</td>\n",
       "    </tr>\n",
       "    <tr>\n",
       "      <th>293</th>\n",
       "      <td>294</td>\n",
       "      <td>199.222222</td>\n",
       "    </tr>\n",
       "    <tr>\n",
       "      <th>294</th>\n",
       "      <td>295</td>\n",
       "      <td>199.888889</td>\n",
       "    </tr>\n",
       "    <tr>\n",
       "      <th>295</th>\n",
       "      <td>296</td>\n",
       "      <td>200.555556</td>\n",
       "    </tr>\n",
       "    <tr>\n",
       "      <th>296</th>\n",
       "      <td>297</td>\n",
       "      <td>201.222222</td>\n",
       "    </tr>\n",
       "    <tr>\n",
       "      <th>297</th>\n",
       "      <td>298</td>\n",
       "      <td>201.888889</td>\n",
       "    </tr>\n",
       "    <tr>\n",
       "      <th>298</th>\n",
       "      <td>299</td>\n",
       "      <td>1.888889</td>\n",
       "    </tr>\n",
       "    <tr>\n",
       "      <th>299</th>\n",
       "      <td>300</td>\n",
       "      <td>1.888889</td>\n",
       "    </tr>\n",
       "  </tbody>\n",
       "</table>\n",
       "</div>"
      ],
      "text/plain": [
       "       X           Y\n",
       "290  291  197.222222\n",
       "291  292  197.888889\n",
       "292  293  198.555556\n",
       "293  294  199.222222\n",
       "294  295  199.888889\n",
       "295  296  200.555556\n",
       "296  297  201.222222\n",
       "297  298  201.888889\n",
       "298  299    1.888889\n",
       "299  300    1.888889"
      ]
     },
     "execution_count": 3,
     "metadata": {},
     "output_type": "execute_result"
    }
   ],
   "source": [
    "df.tail(10)"
   ]
  },
  {
   "cell_type": "code",
   "execution_count": 4,
   "id": "2c6a48de",
   "metadata": {
    "execution": {
     "iopub.execute_input": "2022-08-28T11:19:53.792608Z",
     "iopub.status.busy": "2022-08-28T11:19:53.792169Z",
     "iopub.status.idle": "2022-08-28T11:19:53.807339Z",
     "shell.execute_reply": "2022-08-28T11:19:53.806366Z"
    },
    "papermill": {
     "duration": 0.02875,
     "end_time": "2022-08-28T11:19:53.810650",
     "exception": false,
     "start_time": "2022-08-28T11:19:53.781900",
     "status": "completed"
    },
    "tags": []
   },
   "outputs": [
    {
     "data": {
      "text/html": [
       "<div>\n",
       "<style scoped>\n",
       "    .dataframe tbody tr th:only-of-type {\n",
       "        vertical-align: middle;\n",
       "    }\n",
       "\n",
       "    .dataframe tbody tr th {\n",
       "        vertical-align: top;\n",
       "    }\n",
       "\n",
       "    .dataframe thead th {\n",
       "        text-align: right;\n",
       "    }\n",
       "</style>\n",
       "<table border=\"1\" class=\"dataframe\">\n",
       "  <thead>\n",
       "    <tr style=\"text-align: right;\">\n",
       "      <th></th>\n",
       "      <th>X</th>\n",
       "      <th>Y</th>\n",
       "    </tr>\n",
       "  </thead>\n",
       "  <tbody>\n",
       "    <tr>\n",
       "      <th>X</th>\n",
       "      <td>1.000000</td>\n",
       "      <td>0.959876</td>\n",
       "    </tr>\n",
       "    <tr>\n",
       "      <th>Y</th>\n",
       "      <td>0.959876</td>\n",
       "      <td>1.000000</td>\n",
       "    </tr>\n",
       "  </tbody>\n",
       "</table>\n",
       "</div>"
      ],
      "text/plain": [
       "          X         Y\n",
       "X  1.000000  0.959876\n",
       "Y  0.959876  1.000000"
      ]
     },
     "execution_count": 4,
     "metadata": {},
     "output_type": "execute_result"
    }
   ],
   "source": [
    "df.corr()"
   ]
  },
  {
   "cell_type": "code",
   "execution_count": 5,
   "id": "3ce7fe99",
   "metadata": {
    "execution": {
     "iopub.execute_input": "2022-08-28T11:19:53.832017Z",
     "iopub.status.busy": "2022-08-28T11:19:53.831571Z",
     "iopub.status.idle": "2022-08-28T11:19:54.103078Z",
     "shell.execute_reply": "2022-08-28T11:19:54.101621Z"
    },
    "papermill": {
     "duration": 0.285804,
     "end_time": "2022-08-28T11:19:54.106039",
     "exception": false,
     "start_time": "2022-08-28T11:19:53.820235",
     "status": "completed"
    },
    "tags": []
   },
   "outputs": [
    {
     "data": {
      "image/png": "[encoded data removed]",
      "text/plain": [
       "<Figure size 900x600 with 1 Axes>"
      ]
     },
     "metadata": {},
     "output_type": "display_data"
    }
   ],
   "source": [
    "# Let's plot a dependence graph of the parameters\n",
    "plt.figure(figsize=(9, 6))\n",
    "X = df['X']\n",
    "Y = df['Y']\n",
    "plt.scatter(X, Y)\n",
    "plt.xlabel('X (dependent)', fontsize=15)\n",
    "plt.ylabel('Y (independent)', fontsize=15)\n",
    "plt.title('Parametr dependence', fontsize=18)\n",
    "plt.show()"
   ]
  },
  {
   "cell_type": "code",
   "execution_count": 6,
   "id": "e26dc0c3",
   "metadata": {
    "execution": {
     "iopub.execute_input": "2022-08-28T11:19:54.128361Z",
     "iopub.status.busy": "2022-08-28T11:19:54.127931Z",
     "iopub.status.idle": "2022-08-28T11:19:54.137953Z",
     "shell.execute_reply": "2022-08-28T11:19:54.136527Z"
    },
    "papermill": {
     "duration": 0.023668,
     "end_time": "2022-08-28T11:19:54.140651",
     "exception": false,
     "start_time": "2022-08-28T11:19:54.116983",
     "status": "completed"
    },
    "tags": []
   },
   "outputs": [
    {
     "name": "stdout",
     "output_type": "stream",
     "text": [
      "{'x_mean': 150.5, 'y_mean': 102.21555556172666, 'k': 0.6400448894359696, 'm': 5.888799701613237}\n"
     ]
    }
   ],
   "source": [
    "# Find the coefficients for the equation y = m + k*x using mathematical calculations\n",
    "def find_coef(df):\n",
    "    x_mean = df['X'].mean()\n",
    "    y_mean = df['Y'].mean()\n",
    "    k = sum([(x - x_mean) * (y - y_mean) for x, y in list(zip(df['X'], df['Y']))]) / \\\n",
    "    sum([(x - x_mean) ** 2 for x in list(df['X'])])\n",
    "    m = y_mean - k * x_mean\n",
    "    return {'x_mean': x_mean, 'y_mean': y_mean, 'k': k, 'm': m}\n",
    "coefs = find_coef(df)\n",
    "print(coefs)"
   ]
  },
  {
   "cell_type": "code",
   "execution_count": 7,
   "id": "c483d73d",
   "metadata": {
    "execution": {
     "iopub.execute_input": "2022-08-28T11:19:54.163736Z",
     "iopub.status.busy": "2022-08-28T11:19:54.163045Z",
     "iopub.status.idle": "2022-08-28T11:19:54.380624Z",
     "shell.execute_reply": "2022-08-28T11:19:54.379381Z"
    },
    "papermill": {
     "duration": 0.232977,
     "end_time": "2022-08-28T11:19:54.383646",
     "exception": false,
     "start_time": "2022-08-28T11:19:54.150669",
     "status": "completed"
    },
    "tags": []
   },
   "outputs": [
    {
     "data": {
      "image/png": "[encoded data removed]",
      "text/plain": [
       "<Figure size 900x600 with 1 Axes>"
      ]
     },
     "metadata": {},
     "output_type": "display_data"
    }
   ],
   "source": [
    "# Let's plot the resulting line\n",
    "plt.figure(figsize=(9, 6))\n",
    "X = df['X']\n",
    "Y = df['Y']\n",
    "plt.scatter(X, Y)\n",
    "plt.plot(X, coefs['m'] + coefs['k'] * X, color='red', linewidth=3)\n",
    "plt.xlabel('X (independent)', fontsize=15)\n",
    "plt.ylabel('Y (dependent)', fontsize=15)\n",
    "plt.show()"
   ]
  },
  {
   "cell_type": "markdown",
   "id": "065209ae",
   "metadata": {
    "papermill": {
     "duration": 0.010584,
     "end_time": "2022-08-28T11:19:54.404980",
     "exception": false,
     "start_time": "2022-08-28T11:19:54.394396",
     "status": "completed"
    },
    "tags": []
   },
   "source": [
    "## First, we will create a model with training and control on the same sample"
   ]
  },
  {
   "cell_type": "code",
   "execution_count": 8,
   "id": "a9925f7c",
   "metadata": {
    "execution": {
     "iopub.execute_input": "2022-08-28T11:19:54.429138Z",
     "iopub.status.busy": "2022-08-28T11:19:54.428640Z",
     "iopub.status.idle": "2022-08-28T11:19:54.435203Z",
     "shell.execute_reply": "2022-08-28T11:19:54.433883Z"
    },
    "papermill": {
     "duration": 0.022517,
     "end_time": "2022-08-28T11:19:54.438644",
     "exception": false,
     "start_time": "2022-08-28T11:19:54.416127",
     "status": "completed"
    },
    "tags": []
   },
   "outputs": [],
   "source": [
    "# Prepare data for a linear regression model\n",
    "x = df['X'].values\n",
    "y = df['Y'].values"
   ]
  },
  {
   "cell_type": "code",
   "execution_count": 9,
   "id": "8c911d23",
   "metadata": {
    "execution": {
     "iopub.execute_input": "2022-08-28T11:19:54.463399Z",
     "iopub.status.busy": "2022-08-28T11:19:54.462106Z",
     "iopub.status.idle": "2022-08-28T11:19:54.469018Z",
     "shell.execute_reply": "2022-08-28T11:19:54.467408Z"
    },
    "papermill": {
     "duration": 0.021692,
     "end_time": "2022-08-28T11:19:54.471959",
     "exception": false,
     "start_time": "2022-08-28T11:19:54.450267",
     "status": "completed"
    },
    "tags": []
   },
   "outputs": [],
   "source": [
    "X_all = x.reshape(-1, 1)\n",
    "y_all = y"
   ]
  },
  {
   "cell_type": "code",
   "execution_count": 10,
   "id": "9d2ebd93",
   "metadata": {
    "execution": {
     "iopub.execute_input": "2022-08-28T11:19:54.496740Z",
     "iopub.status.busy": "2022-08-28T11:19:54.496233Z",
     "iopub.status.idle": "2022-08-28T11:19:54.502314Z",
     "shell.execute_reply": "2022-08-28T11:19:54.500564Z"
    },
    "papermill": {
     "duration": 0.021802,
     "end_time": "2022-08-28T11:19:54.504999",
     "exception": false,
     "start_time": "2022-08-28T11:19:54.483197",
     "status": "completed"
    },
    "tags": []
   },
   "outputs": [],
   "source": [
    "model = LinearRegression()"
   ]
  },
  {
   "cell_type": "code",
   "execution_count": 11,
   "id": "0073b0a7",
   "metadata": {
    "execution": {
     "iopub.execute_input": "2022-08-28T11:19:54.528174Z",
     "iopub.status.busy": "2022-08-28T11:19:54.527745Z",
     "iopub.status.idle": "2022-08-28T11:19:54.557421Z",
     "shell.execute_reply": "2022-08-28T11:19:54.556170Z"
    },
    "papermill": {
     "duration": 0.044205,
     "end_time": "2022-08-28T11:19:54.559871",
     "exception": false,
     "start_time": "2022-08-28T11:19:54.515666",
     "status": "completed"
    },
    "tags": []
   },
   "outputs": [
    {
     "data": {
      "text/html": [
       "<style>#sk-container-id-1 {color: black;background-color: white;}#sk-container-id-1 pre{padding: 0;}#sk-container-id-1 div.sk-toggleable {background-color: white;}#sk-container-id-1 label.sk-toggleable__label {cursor: pointer;display: block;width: 100%;margin-bottom: 0;padding: 0.3em;box-sizing: border-box;text-align: center;}#sk-container-id-1 label.sk-toggleable__label-arrow:before {content: \"▸\";float: left;margin-right: 0.25em;color: #696969;}#sk-container-id-1 label.sk-toggleable__label-arrow:hover:before {color: black;}#sk-container-id-1 div.sk-estimator:hover label.sk-toggleable__label-arrow:before {color: black;}#sk-container-id-1 div.sk-toggleable__content {max-height: 0;max-width: 0;overflow: hidden;text-align: left;background-color: #f0f8ff;}#sk-container-id-1 div.sk-toggleable__content pre {margin: 0.2em;color: black;border-radius: 0.25em;background-color: #f0f8ff;}#sk-container-id-1 input.sk-toggleable__control:checked~div.sk-toggleable__content {max-height: 200px;max-width: 100%;overflow: auto;}#sk-container-id-1 input.sk-toggleable__control:checked~label.sk-toggleable__label-arrow:before {content: \"▾\";}#sk-container-id-1 div.sk-estimator input.sk-toggleable__control:checked~label.sk-toggleable__label {background-color: #d4ebff;}#sk-container-id-1 div.sk-label input.sk-toggleable__control:checked~label.sk-toggleable__label {background-color: #d4ebff;}#sk-container-id-1 input.sk-hidden--visually {border: 0;clip: rect(1px 1px 1px 1px);clip: rect(1px, 1px, 1px, 1px);height: 1px;margin: -1px;overflow: hidden;padding: 0;position: absolute;width: 1px;}#sk-container-id-1 div.sk-estimator {font-family: monospace;background-color: #f0f8ff;border: 1px dotted black;border-radius: 0.25em;box-sizing: border-box;margin-bottom: 0.5em;}#sk-container-id-1 div.sk-estimator:hover {background-color: #d4ebff;}#sk-container-id-1 div.sk-parallel-item::after {content: \"\";width: 100%;border-bottom: 1px solid gray;flex-grow: 1;}#sk-container-id-1 div.sk-label:hover label.sk-toggleable__label {background-color: #d4ebff;}#sk-container-id-1 div.sk-serial::before {content: \"\";position: absolute;border-left: 1px solid gray;box-sizing: border-box;top: 0;bottom: 0;left: 50%;z-index: 0;}#sk-container-id-1 div.sk-serial {display: flex;flex-direction: column;align-items: center;background-color: white;padding-right: 0.2em;padding-left: 0.2em;position: relative;}#sk-container-id-1 div.sk-item {position: relative;z-index: 1;}#sk-container-id-1 div.sk-parallel {display: flex;align-items: stretch;justify-content: center;background-color: white;position: relative;}#sk-container-id-1 div.sk-item::before, #sk-container-id-1 div.sk-parallel-item::before {content: \"\";position: absolute;border-left: 1px solid gray;box-sizing: border-box;top: 0;bottom: 0;left: 50%;z-index: -1;}#sk-container-id-1 div.sk-parallel-item {display: flex;flex-direction: column;z-index: 1;position: relative;background-color: white;}#sk-container-id-1 div.sk-parallel-item:first-child::after {align-self: flex-end;width: 50%;}#sk-container-id-1 div.sk-parallel-item:last-child::after {align-self: flex-start;width: 50%;}#sk-container-id-1 div.sk-parallel-item:only-child::after {width: 0;}#sk-container-id-1 div.sk-dashed-wrapped {border: 1px dashed gray;margin: 0 0.4em 0.5em 0.4em;box-sizing: border-box;padding-bottom: 0.4em;background-color: white;}#sk-container-id-1 div.sk-label label {font-family: monospace;font-weight: bold;display: inline-block;line-height: 1.2em;}#sk-container-id-1 div.sk-label-container {text-align: center;}#sk-container-id-1 div.sk-container {/* jupyter's `normalize.less` sets `[hidden] { display: none; }` but bootstrap.min.css set `[hidden] { display: none !important; }` so we also need the `!important` here to be able to override the default hidden behavior on the sphinx rendered scikit-learn.org. See: https://github.com/scikit-learn/scikit-learn/issues/21755 */display: inline-block !important;position: relative;}#sk-container-id-1 div.sk-text-repr-fallback {display: none;}</style><div id=\"sk-container-id-1\" class=\"sk-top-container\"><div class=\"sk-text-repr-fallback\"><pre>LinearRegression()</pre><b>In a Jupyter environment, please rerun this cell to show the HTML representation or trust the notebook. <br />On GitHub, the HTML representation is unable to render, please try loading this page with nbviewer.org.</b></div><div class=\"sk-container\" hidden><div class=\"sk-item\"><div class=\"sk-estimator sk-toggleable\"><input class=\"sk-toggleable__control sk-hidden--visually\" id=\"sk-estimator-id-1\" type=\"checkbox\" checked><label for=\"sk-estimator-id-1\" class=\"sk-toggleable__label sk-toggleable__label-arrow\">LinearRegression</label><div class=\"sk-toggleable__content\"><pre>LinearRegression()</pre></div></div></div></div></div>"
      ],
      "text/plain": [
       "LinearRegression()"
      ]
     },
     "execution_count": 11,
     "metadata": {},
     "output_type": "execute_result"
    }
   ],
   "source": [
    "# Train the model\n",
    "model.fit(X_all, y)"
   ]
  },
  {
   "cell_type": "code",
   "execution_count": 12,
   "id": "6dc05fdb",
   "metadata": {
    "execution": {
     "iopub.execute_input": "2022-08-28T11:19:54.584753Z",
     "iopub.status.busy": "2022-08-28T11:19:54.584288Z",
     "iopub.status.idle": "2022-08-28T11:19:54.590819Z",
     "shell.execute_reply": "2022-08-28T11:19:54.589126Z"
    },
    "papermill": {
     "duration": 0.022885,
     "end_time": "2022-08-28T11:19:54.593781",
     "exception": false,
     "start_time": "2022-08-28T11:19:54.570896",
     "status": "completed"
    },
    "tags": []
   },
   "outputs": [],
   "source": [
    "# Predicting Y values\n",
    "y_predict = model.predict(X_all)"
   ]
  },
  {
   "cell_type": "code",
   "execution_count": 13,
   "id": "376f5caf",
   "metadata": {
    "execution": {
     "iopub.execute_input": "2022-08-28T11:19:54.620003Z",
     "iopub.status.busy": "2022-08-28T11:19:54.619561Z",
     "iopub.status.idle": "2022-08-28T11:19:54.628464Z",
     "shell.execute_reply": "2022-08-28T11:19:54.627050Z"
    },
    "papermill": {
     "duration": 0.026093,
     "end_time": "2022-08-28T11:19:54.631238",
     "exception": false,
     "start_time": "2022-08-28T11:19:54.605145",
     "status": "completed"
    },
    "tags": []
   },
   "outputs": [
    {
     "data": {
      "text/plain": [
       "(134.53782247824313, 137.2222222)"
      ]
     },
     "execution_count": 13,
     "metadata": {},
     "output_type": "execute_result"
    }
   ],
   "source": [
    "# Compare the value from the data and from the model\n",
    "y_predict[200], y[200]"
   ]
  },
  {
   "cell_type": "code",
   "execution_count": 14,
   "id": "373688ba",
   "metadata": {
    "execution": {
     "iopub.execute_input": "2022-08-28T11:19:54.655591Z",
     "iopub.status.busy": "2022-08-28T11:19:54.655143Z",
     "iopub.status.idle": "2022-08-28T11:19:54.665068Z",
     "shell.execute_reply": "2022-08-28T11:19:54.662679Z"
    },
    "papermill": {
     "duration": 0.026342,
     "end_time": "2022-08-28T11:19:54.668376",
     "exception": false,
     "start_time": "2022-08-28T11:19:54.642034",
     "status": "completed"
    },
    "tags": []
   },
   "outputs": [
    {
     "name": "stdout",
     "output_type": "stream",
     "text": [
      "R2 Score: 0.9213615685311795\n",
      "Root MSE: 16.19351126670784\n",
      "Coefficients: 0.6400448894359697\n",
      "Intercept: 5.888799701613223\n"
     ]
    }
   ],
   "source": [
    "# Print the main metrics\n",
    "print(f'R2 Score: {r2_score(y, y_predict)}')\n",
    "print(f'Root MSE: {np.sqrt(mean_squared_error(y, y_predict))}')\n",
    "print(f'Coefficients: {model.coef_[0]}')\n",
    "print(f'Intercept: {model.intercept_}')"
   ]
  },
  {
   "cell_type": "markdown",
   "id": "09c9e9ba",
   "metadata": {
    "papermill": {
     "duration": 0.011071,
     "end_time": "2022-08-28T11:19:54.690545",
     "exception": false,
     "start_time": "2022-08-28T11:19:54.679474",
     "status": "completed"
    },
    "tags": []
   },
   "source": [
    "## Create a model with Train/Test split"
   ]
  },
  {
   "cell_type": "code",
   "execution_count": 15,
   "id": "f3adbead",
   "metadata": {
    "execution": {
     "iopub.execute_input": "2022-08-28T11:19:54.714153Z",
     "iopub.status.busy": "2022-08-28T11:19:54.713358Z",
     "iopub.status.idle": "2022-08-28T11:19:54.719305Z",
     "shell.execute_reply": "2022-08-28T11:19:54.718182Z"
    },
    "papermill": {
     "duration": 0.020423,
     "end_time": "2022-08-28T11:19:54.721872",
     "exception": false,
     "start_time": "2022-08-28T11:19:54.701449",
     "status": "completed"
    },
    "tags": []
   },
   "outputs": [],
   "source": [
    "# Create training and test sets\n",
    "X_train, X_test, y_train, y_test = train_test_split(X_all, y, train_size=0.8, test_size=0.2, \n",
    "                                                    random_state=21, shuffle=True)"
   ]
  },
  {
   "cell_type": "code",
   "execution_count": 16,
   "id": "b5ac0e42",
   "metadata": {
    "execution": {
     "iopub.execute_input": "2022-08-28T11:19:54.745337Z",
     "iopub.status.busy": "2022-08-28T11:19:54.744888Z",
     "iopub.status.idle": "2022-08-28T11:19:54.931847Z",
     "shell.execute_reply": "2022-08-28T11:19:54.930032Z"
    },
    "papermill": {
     "duration": 0.202654,
     "end_time": "2022-08-28T11:19:54.935101",
     "exception": false,
     "start_time": "2022-08-28T11:19:54.732447",
     "status": "completed"
    },
    "tags": []
   },
   "outputs": [
    {
     "data": {
      "image/png": "[encoded data removed]",
      "text/plain": [
       "<Figure size 640x480 with 1 Axes>"
      ]
     },
     "metadata": {},
     "output_type": "display_data"
    }
   ],
   "source": [
    "# See sample plots\n",
    "plt.scatter(X_train, y_train)\n",
    "plt.title('Train data', fontsize=18)\n",
    "plt.xlabel('X (independent)', fontsize=15)\n",
    "plt.ylabel('Y (dependent)', fontsize=15)\n",
    "plt.show()"
   ]
  },
  {
   "cell_type": "code",
   "execution_count": 17,
   "id": "a0abebd3",
   "metadata": {
    "execution": {
     "iopub.execute_input": "2022-08-28T11:19:54.961726Z",
     "iopub.status.busy": "2022-08-28T11:19:54.961013Z",
     "iopub.status.idle": "2022-08-28T11:19:55.132717Z",
     "shell.execute_reply": "2022-08-28T11:19:55.131038Z"
    },
    "papermill": {
     "duration": 0.187619,
     "end_time": "2022-08-28T11:19:55.135334",
     "exception": false,
     "start_time": "2022-08-28T11:19:54.947715",
     "status": "completed"
    },
    "tags": []
   },
   "outputs": [
    {
     "data": {
      "image/png": "[encoded data removed]",
      "text/plain": [
       "<Figure size 640x480 with 1 Axes>"
      ]
     },
     "metadata": {},
     "output_type": "display_data"
    }
   ],
   "source": [
    "plt.scatter(X_test, y_test)\n",
    "plt.title('Test data', fontsize=18)\n",
    "plt.xlabel('X (independent)', fontsize=15)\n",
    "plt.ylabel('Y (dependent)', fontsize=15)\n",
    "plt.show()"
   ]
  },
  {
   "cell_type": "code",
   "execution_count": 18,
   "id": "428647f5",
   "metadata": {
    "execution": {
     "iopub.execute_input": "2022-08-28T11:19:55.160094Z",
     "iopub.status.busy": "2022-08-28T11:19:55.159606Z",
     "iopub.status.idle": "2022-08-28T11:19:55.164898Z",
     "shell.execute_reply": "2022-08-28T11:19:55.163628Z"
    },
    "papermill": {
     "duration": 0.020614,
     "end_time": "2022-08-28T11:19:55.167276",
     "exception": false,
     "start_time": "2022-08-28T11:19:55.146662",
     "status": "completed"
    },
    "tags": []
   },
   "outputs": [],
   "source": [
    "model_tt = LinearRegression()"
   ]
  },
  {
   "cell_type": "code",
   "execution_count": 19,
   "id": "4fb6a8b0",
   "metadata": {
    "execution": {
     "iopub.execute_input": "2022-08-28T11:19:55.191869Z",
     "iopub.status.busy": "2022-08-28T11:19:55.191434Z",
     "iopub.status.idle": "2022-08-28T11:19:55.200152Z",
     "shell.execute_reply": "2022-08-28T11:19:55.199005Z"
    },
    "papermill": {
     "duration": 0.024274,
     "end_time": "2022-08-28T11:19:55.202695",
     "exception": false,
     "start_time": "2022-08-28T11:19:55.178421",
     "status": "completed"
    },
    "tags": []
   },
   "outputs": [
    {
     "data": {
      "text/html": [
       "<style>#sk-container-id-2 {color: black;background-color: white;}#sk-container-id-2 pre{padding: 0;}#sk-container-id-2 div.sk-toggleable {background-color: white;}#sk-container-id-2 label.sk-toggleable__label {cursor: pointer;display: block;width: 100%;margin-bottom: 0;padding: 0.3em;box-sizing: border-box;text-align: center;}#sk-container-id-2 label.sk-toggleable__label-arrow:before {content: \"▸\";float: left;margin-right: 0.25em;color: #696969;}#sk-container-id-2 label.sk-toggleable__label-arrow:hover:before {color: black;}#sk-container-id-2 div.sk-estimator:hover label.sk-toggleable__label-arrow:before {color: black;}#sk-container-id-2 div.sk-toggleable__content {max-height: 0;max-width: 0;overflow: hidden;text-align: left;background-color: #f0f8ff;}#sk-container-id-2 div.sk-toggleable__content pre {margin: 0.2em;color: black;border-radius: 0.25em;background-color: #f0f8ff;}#sk-container-id-2 input.sk-toggleable__control:checked~div.sk-toggleable__content {max-height: 200px;max-width: 100%;overflow: auto;}#sk-container-id-2 input.sk-toggleable__control:checked~label.sk-toggleable__label-arrow:before {content: \"▾\";}#sk-container-id-2 div.sk-estimator input.sk-toggleable__control:checked~label.sk-toggleable__label {background-color: #d4ebff;}#sk-container-id-2 div.sk-label input.sk-toggleable__control:checked~label.sk-toggleable__label {background-color: #d4ebff;}#sk-container-id-2 input.sk-hidden--visually {border: 0;clip: rect(1px 1px 1px 1px);clip: rect(1px, 1px, 1px, 1px);height: 1px;margin: -1px;overflow: hidden;padding: 0;position: absolute;width: 1px;}#sk-container-id-2 div.sk-estimator {font-family: monospace;background-color: #f0f8ff;border: 1px dotted black;border-radius: 0.25em;box-sizing: border-box;margin-bottom: 0.5em;}#sk-container-id-2 div.sk-estimator:hover {background-color: #d4ebff;}#sk-container-id-2 div.sk-parallel-item::after {content: \"\";width: 100%;border-bottom: 1px solid gray;flex-grow: 1;}#sk-container-id-2 div.sk-label:hover label.sk-toggleable__label {background-color: #d4ebff;}#sk-container-id-2 div.sk-serial::before {content: \"\";position: absolute;border-left: 1px solid gray;box-sizing: border-box;top: 0;bottom: 0;left: 50%;z-index: 0;}#sk-container-id-2 div.sk-serial {display: flex;flex-direction: column;align-items: center;background-color: white;padding-right: 0.2em;padding-left: 0.2em;position: relative;}#sk-container-id-2 div.sk-item {position: relative;z-index: 1;}#sk-container-id-2 div.sk-parallel {display: flex;align-items: stretch;justify-content: center;background-color: white;position: relative;}#sk-container-id-2 div.sk-item::before, #sk-container-id-2 div.sk-parallel-item::before {content: \"\";position: absolute;border-left: 1px solid gray;box-sizing: border-box;top: 0;bottom: 0;left: 50%;z-index: -1;}#sk-container-id-2 div.sk-parallel-item {display: flex;flex-direction: column;z-index: 1;position: relative;background-color: white;}#sk-container-id-2 div.sk-parallel-item:first-child::after {align-self: flex-end;width: 50%;}#sk-container-id-2 div.sk-parallel-item:last-child::after {align-self: flex-start;width: 50%;}#sk-container-id-2 div.sk-parallel-item:only-child::after {width: 0;}#sk-container-id-2 div.sk-dashed-wrapped {border: 1px dashed gray;margin: 0 0.4em 0.5em 0.4em;box-sizing: border-box;padding-bottom: 0.4em;background-color: white;}#sk-container-id-2 div.sk-label label {font-family: monospace;font-weight: bold;display: inline-block;line-height: 1.2em;}#sk-container-id-2 div.sk-label-container {text-align: center;}#sk-container-id-2 div.sk-container {/* jupyter's `normalize.less` sets `[hidden] { display: none; }` but bootstrap.min.css set `[hidden] { display: none !important; }` so we also need the `!important` here to be able to override the default hidden behavior on the sphinx rendered scikit-learn.org. See: https://github.com/scikit-learn/scikit-learn/issues/21755 */display: inline-block !important;position: relative;}#sk-container-id-2 div.sk-text-repr-fallback {display: none;}</style><div id=\"sk-container-id-2\" class=\"sk-top-container\"><div class=\"sk-text-repr-fallback\"><pre>LinearRegression()</pre><b>In a Jupyter environment, please rerun this cell to show the HTML representation or trust the notebook. <br />On GitHub, the HTML representation is unable to render, please try loading this page with nbviewer.org.</b></div><div class=\"sk-container\" hidden><div class=\"sk-item\"><div class=\"sk-estimator sk-toggleable\"><input class=\"sk-toggleable__control sk-hidden--visually\" id=\"sk-estimator-id-2\" type=\"checkbox\" checked><label for=\"sk-estimator-id-2\" class=\"sk-toggleable__label sk-toggleable__label-arrow\">LinearRegression</label><div class=\"sk-toggleable__content\"><pre>LinearRegression()</pre></div></div></div></div></div>"
      ],
      "text/plain": [
       "LinearRegression()"
      ]
     },
     "execution_count": 19,
     "metadata": {},
     "output_type": "execute_result"
    }
   ],
   "source": [
    "# Train the model\n",
    "model_tt.fit(X_train, y_train)"
   ]
  },
  {
   "cell_type": "code",
   "execution_count": 20,
   "id": "1279b9e0",
   "metadata": {
    "execution": {
     "iopub.execute_input": "2022-08-28T11:19:55.227565Z",
     "iopub.status.busy": "2022-08-28T11:19:55.226767Z",
     "iopub.status.idle": "2022-08-28T11:19:55.232197Z",
     "shell.execute_reply": "2022-08-28T11:19:55.231239Z"
    },
    "papermill": {
     "duration": 0.020896,
     "end_time": "2022-08-28T11:19:55.234780",
     "exception": false,
     "start_time": "2022-08-28T11:19:55.213884",
     "status": "completed"
    },
    "tags": []
   },
   "outputs": [],
   "source": [
    "# Predicting Y values\n",
    "y_predict_tt = model_tt.predict(X_test)"
   ]
  },
  {
   "cell_type": "code",
   "execution_count": 21,
   "id": "53086ea9",
   "metadata": {
    "execution": {
     "iopub.execute_input": "2022-08-28T11:19:55.259486Z",
     "iopub.status.busy": "2022-08-28T11:19:55.258665Z",
     "iopub.status.idle": "2022-08-28T11:19:55.265754Z",
     "shell.execute_reply": "2022-08-28T11:19:55.264867Z"
    },
    "papermill": {
     "duration": 0.02205,
     "end_time": "2022-08-28T11:19:55.268129",
     "exception": false,
     "start_time": "2022-08-28T11:19:55.246079",
     "status": "completed"
    },
    "tags": []
   },
   "outputs": [
    {
     "data": {
      "text/plain": [
       "(196.5555556, 193.24807031691154)"
      ]
     },
     "execution_count": 21,
     "metadata": {},
     "output_type": "execute_result"
    }
   ],
   "source": [
    "# Compare the value from the data and from the model\n",
    "y_test[20], y_predict_tt[20]"
   ]
  },
  {
   "cell_type": "code",
   "execution_count": 22,
   "id": "f75f7f81",
   "metadata": {
    "execution": {
     "iopub.execute_input": "2022-08-28T11:19:55.292902Z",
     "iopub.status.busy": "2022-08-28T11:19:55.292100Z",
     "iopub.status.idle": "2022-08-28T11:19:55.300773Z",
     "shell.execute_reply": "2022-08-28T11:19:55.299006Z"
    },
    "papermill": {
     "duration": 0.024593,
     "end_time": "2022-08-28T11:19:55.304073",
     "exception": false,
     "start_time": "2022-08-28T11:19:55.279480",
     "status": "completed"
    },
    "tags": []
   },
   "outputs": [
    {
     "name": "stdout",
     "output_type": "stream",
     "text": [
      "R2 Score: 0.804926077930459\n",
      "Root MSE: 25.52447841351079\n",
      "Coefficients: 0.6494358870752025\n",
      "Intercept: 4.911663065102786\n"
     ]
    }
   ],
   "source": [
    "# Ptint the main metrics\n",
    "print(f'R2 Score: {r2_score(y_test, y_predict_tt)}')\n",
    "print(f'Root MSE: {np.sqrt(mean_squared_error(y_test, y_predict_tt))}')\n",
    "print(f'Coefficients: {model_tt.coef_[0]}')\n",
    "print(f'Intercept: {model_tt.intercept_}')"
   ]
  },
  {
   "cell_type": "markdown",
   "id": "362aa060",
   "metadata": {
    "papermill": {
     "duration": 0.010762,
     "end_time": "2022-08-28T11:19:55.326547",
     "exception": false,
     "start_time": "2022-08-28T11:19:55.315785",
     "status": "completed"
    },
    "tags": []
   },
   "source": [
    "## In order to improve the metrics of the last model, we will get rid of two questionable values in the dataset."
   ]
  },
  {
   "cell_type": "code",
   "execution_count": 23,
   "id": "92800071",
   "metadata": {
    "execution": {
     "iopub.execute_input": "2022-08-28T11:19:55.351886Z",
     "iopub.status.busy": "2022-08-28T11:19:55.350839Z",
     "iopub.status.idle": "2022-08-28T11:19:55.360971Z",
     "shell.execute_reply": "2022-08-28T11:19:55.360007Z"
    },
    "papermill": {
     "duration": 0.025052,
     "end_time": "2022-08-28T11:19:55.363416",
     "exception": false,
     "start_time": "2022-08-28T11:19:55.338364",
     "status": "completed"
    },
    "tags": []
   },
   "outputs": [
    {
     "data": {
      "text/html": [
       "<div>\n",
       "<style scoped>\n",
       "    .dataframe tbody tr th:only-of-type {\n",
       "        vertical-align: middle;\n",
       "    }\n",
       "\n",
       "    .dataframe tbody tr th {\n",
       "        vertical-align: top;\n",
       "    }\n",
       "\n",
       "    .dataframe thead th {\n",
       "        text-align: right;\n",
       "    }\n",
       "</style>\n",
       "<table border=\"1\" class=\"dataframe\">\n",
       "  <thead>\n",
       "    <tr style=\"text-align: right;\">\n",
       "      <th></th>\n",
       "      <th>X</th>\n",
       "      <th>Y</th>\n",
       "    </tr>\n",
       "  </thead>\n",
       "  <tbody>\n",
       "    <tr>\n",
       "      <th>295</th>\n",
       "      <td>296</td>\n",
       "      <td>200.555556</td>\n",
       "    </tr>\n",
       "    <tr>\n",
       "      <th>296</th>\n",
       "      <td>297</td>\n",
       "      <td>201.222222</td>\n",
       "    </tr>\n",
       "    <tr>\n",
       "      <th>297</th>\n",
       "      <td>298</td>\n",
       "      <td>201.888889</td>\n",
       "    </tr>\n",
       "    <tr>\n",
       "      <th>298</th>\n",
       "      <td>299</td>\n",
       "      <td>1.888889</td>\n",
       "    </tr>\n",
       "    <tr>\n",
       "      <th>299</th>\n",
       "      <td>300</td>\n",
       "      <td>1.888889</td>\n",
       "    </tr>\n",
       "  </tbody>\n",
       "</table>\n",
       "</div>"
      ],
      "text/plain": [
       "       X           Y\n",
       "295  296  200.555556\n",
       "296  297  201.222222\n",
       "297  298  201.888889\n",
       "298  299    1.888889\n",
       "299  300    1.888889"
      ]
     },
     "execution_count": 23,
     "metadata": {},
     "output_type": "execute_result"
    }
   ],
   "source": [
    "df.tail(5)"
   ]
  },
  {
   "cell_type": "code",
   "execution_count": 24,
   "id": "b0ad2234",
   "metadata": {
    "execution": {
     "iopub.execute_input": "2022-08-28T11:19:55.389058Z",
     "iopub.status.busy": "2022-08-28T11:19:55.388255Z",
     "iopub.status.idle": "2022-08-28T11:19:55.396415Z",
     "shell.execute_reply": "2022-08-28T11:19:55.395382Z"
    },
    "papermill": {
     "duration": 0.023954,
     "end_time": "2022-08-28T11:19:55.399098",
     "exception": false,
     "start_time": "2022-08-28T11:19:55.375144",
     "status": "completed"
    },
    "tags": []
   },
   "outputs": [],
   "source": [
    "# Delete two last values from dataset, because they seem to be wrong\n",
    "df = df.drop([298, 299], axis=0)"
   ]
  },
  {
   "cell_type": "code",
   "execution_count": 25,
   "id": "5772162e",
   "metadata": {
    "execution": {
     "iopub.execute_input": "2022-08-28T11:19:55.425604Z",
     "iopub.status.busy": "2022-08-28T11:19:55.424300Z",
     "iopub.status.idle": "2022-08-28T11:19:55.433854Z",
     "shell.execute_reply": "2022-08-28T11:19:55.432641Z"
    },
    "papermill": {
     "duration": 0.024987,
     "end_time": "2022-08-28T11:19:55.436337",
     "exception": false,
     "start_time": "2022-08-28T11:19:55.411350",
     "status": "completed"
    },
    "tags": []
   },
   "outputs": [
    {
     "data": {
      "text/plain": [
       "{'x_mean': 149.5,\n",
       " 'y_mean': 102.88888889510066,\n",
       " 'k': 0.6666666667167804,\n",
       " 'm': 3.222222220941987}"
      ]
     },
     "execution_count": 25,
     "metadata": {},
     "output_type": "execute_result"
    }
   ],
   "source": [
    "# Find the coefficients of the linear equation for the updated dataset\n",
    "find_coef(df)"
   ]
  },
  {
   "cell_type": "code",
   "execution_count": 26,
   "id": "dcdd694e",
   "metadata": {
    "execution": {
     "iopub.execute_input": "2022-08-28T11:19:55.461536Z",
     "iopub.status.busy": "2022-08-28T11:19:55.460756Z",
     "iopub.status.idle": "2022-08-28T11:19:55.467236Z",
     "shell.execute_reply": "2022-08-28T11:19:55.465855Z"
    },
    "papermill": {
     "duration": 0.021795,
     "end_time": "2022-08-28T11:19:55.469845",
     "exception": false,
     "start_time": "2022-08-28T11:19:55.448050",
     "status": "completed"
    },
    "tags": []
   },
   "outputs": [],
   "source": [
    "# Preparing the data\n",
    "X = df['X'].values\n",
    "y = df['Y'].values\n",
    "X = X.reshape(-1, 1)"
   ]
  },
  {
   "cell_type": "code",
   "execution_count": 27,
   "id": "04b2583a",
   "metadata": {
    "execution": {
     "iopub.execute_input": "2022-08-28T11:19:55.494531Z",
     "iopub.status.busy": "2022-08-28T11:19:55.493854Z",
     "iopub.status.idle": "2022-08-28T11:19:55.499218Z",
     "shell.execute_reply": "2022-08-28T11:19:55.498038Z"
    },
    "papermill": {
     "duration": 0.020156,
     "end_time": "2022-08-28T11:19:55.501470",
     "exception": false,
     "start_time": "2022-08-28T11:19:55.481314",
     "status": "completed"
    },
    "tags": []
   },
   "outputs": [],
   "source": [
    "model_tt_2 = LinearRegression()"
   ]
  },
  {
   "cell_type": "code",
   "execution_count": 28,
   "id": "b775e14e",
   "metadata": {
    "execution": {
     "iopub.execute_input": "2022-08-28T11:19:55.526058Z",
     "iopub.status.busy": "2022-08-28T11:19:55.525612Z",
     "iopub.status.idle": "2022-08-28T11:19:55.532622Z",
     "shell.execute_reply": "2022-08-28T11:19:55.531381Z"
    },
    "papermill": {
     "duration": 0.0223,
     "end_time": "2022-08-28T11:19:55.535200",
     "exception": false,
     "start_time": "2022-08-28T11:19:55.512900",
     "status": "completed"
    },
    "tags": []
   },
   "outputs": [],
   "source": [
    "# Create training and test sets based on updated data\n",
    "X_train_2, X_test_2, y_train_2, y_test_2 = train_test_split(X, y, test_size=0.2, random_state=21, shuffle=True)"
   ]
  },
  {
   "cell_type": "code",
   "execution_count": 29,
   "id": "11f33f47",
   "metadata": {
    "execution": {
     "iopub.execute_input": "2022-08-28T11:19:55.560191Z",
     "iopub.status.busy": "2022-08-28T11:19:55.559745Z",
     "iopub.status.idle": "2022-08-28T11:19:55.568731Z",
     "shell.execute_reply": "2022-08-28T11:19:55.567653Z"
    },
    "papermill": {
     "duration": 0.024051,
     "end_time": "2022-08-28T11:19:55.571076",
     "exception": false,
     "start_time": "2022-08-28T11:19:55.547025",
     "status": "completed"
    },
    "tags": []
   },
   "outputs": [
    {
     "data": {
      "text/html": [
       "<style>#sk-container-id-3 {color: black;background-color: white;}#sk-container-id-3 pre{padding: 0;}#sk-container-id-3 div.sk-toggleable {background-color: white;}#sk-container-id-3 label.sk-toggleable__label {cursor: pointer;display: block;width: 100%;margin-bottom: 0;padding: 0.3em;box-sizing: border-box;text-align: center;}#sk-container-id-3 label.sk-toggleable__label-arrow:before {content: \"▸\";float: left;margin-right: 0.25em;color: #696969;}#sk-container-id-3 label.sk-toggleable__label-arrow:hover:before {color: black;}#sk-container-id-3 div.sk-estimator:hover label.sk-toggleable__label-arrow:before {color: black;}#sk-container-id-3 div.sk-toggleable__content {max-height: 0;max-width: 0;overflow: hidden;text-align: left;background-color: #f0f8ff;}#sk-container-id-3 div.sk-toggleable__content pre {margin: 0.2em;color: black;border-radius: 0.25em;background-color: #f0f8ff;}#sk-container-id-3 input.sk-toggleable__control:checked~div.sk-toggleable__content {max-height: 200px;max-width: 100%;overflow: auto;}#sk-container-id-3 input.sk-toggleable__control:checked~label.sk-toggleable__label-arrow:before {content: \"▾\";}#sk-container-id-3 div.sk-estimator input.sk-toggleable__control:checked~label.sk-toggleable__label {background-color: #d4ebff;}#sk-container-id-3 div.sk-label input.sk-toggleable__control:checked~label.sk-toggleable__label {background-color: #d4ebff;}#sk-container-id-3 input.sk-hidden--visually {border: 0;clip: rect(1px 1px 1px 1px);clip: rect(1px, 1px, 1px, 1px);height: 1px;margin: -1px;overflow: hidden;padding: 0;position: absolute;width: 1px;}#sk-container-id-3 div.sk-estimator {font-family: monospace;background-color: #f0f8ff;border: 1px dotted black;border-radius: 0.25em;box-sizing: border-box;margin-bottom: 0.5em;}#sk-container-id-3 div.sk-estimator:hover {background-color: #d4ebff;}#sk-container-id-3 div.sk-parallel-item::after {content: \"\";width: 100%;border-bottom: 1px solid gray;flex-grow: 1;}#sk-container-id-3 div.sk-label:hover label.sk-toggleable__label {background-color: #d4ebff;}#sk-container-id-3 div.sk-serial::before {content: \"\";position: absolute;border-left: 1px solid gray;box-sizing: border-box;top: 0;bottom: 0;left: 50%;z-index: 0;}#sk-container-id-3 div.sk-serial {display: flex;flex-direction: column;align-items: center;background-color: white;padding-right: 0.2em;padding-left: 0.2em;position: relative;}#sk-container-id-3 div.sk-item {position: relative;z-index: 1;}#sk-container-id-3 div.sk-parallel {display: flex;align-items: stretch;justify-content: center;background-color: white;position: relative;}#sk-container-id-3 div.sk-item::before, #sk-container-id-3 div.sk-parallel-item::before {content: \"\";position: absolute;border-left: 1px solid gray;box-sizing: border-box;top: 0;bottom: 0;left: 50%;z-index: -1;}#sk-container-id-3 div.sk-parallel-item {display: flex;flex-direction: column;z-index: 1;position: relative;background-color: white;}#sk-container-id-3 div.sk-parallel-item:first-child::after {align-self: flex-end;width: 50%;}#sk-container-id-3 div.sk-parallel-item:last-child::after {align-self: flex-start;width: 50%;}#sk-container-id-3 div.sk-parallel-item:only-child::after {width: 0;}#sk-container-id-3 div.sk-dashed-wrapped {border: 1px dashed gray;margin: 0 0.4em 0.5em 0.4em;box-sizing: border-box;padding-bottom: 0.4em;background-color: white;}#sk-container-id-3 div.sk-label label {font-family: monospace;font-weight: bold;display: inline-block;line-height: 1.2em;}#sk-container-id-3 div.sk-label-container {text-align: center;}#sk-container-id-3 div.sk-container {/* jupyter's `normalize.less` sets `[hidden] { display: none; }` but bootstrap.min.css set `[hidden] { display: none !important; }` so we also need the `!important` here to be able to override the default hidden behavior on the sphinx rendered scikit-learn.org. See: https://github.com/scikit-learn/scikit-learn/issues/21755 */display: inline-block !important;position: relative;}#sk-container-id-3 div.sk-text-repr-fallback {display: none;}</style><div id=\"sk-container-id-3\" class=\"sk-top-container\"><div class=\"sk-text-repr-fallback\"><pre>LinearRegression()</pre><b>In a Jupyter environment, please rerun this cell to show the HTML representation or trust the notebook. <br />On GitHub, the HTML representation is unable to render, please try loading this page with nbviewer.org.</b></div><div class=\"sk-container\" hidden><div class=\"sk-item\"><div class=\"sk-estimator sk-toggleable\"><input class=\"sk-toggleable__control sk-hidden--visually\" id=\"sk-estimator-id-3\" type=\"checkbox\" checked><label for=\"sk-estimator-id-3\" class=\"sk-toggleable__label sk-toggleable__label-arrow\">LinearRegression</label><div class=\"sk-toggleable__content\"><pre>LinearRegression()</pre></div></div></div></div></div>"
      ],
      "text/plain": [
       "LinearRegression()"
      ]
     },
     "execution_count": 29,
     "metadata": {},
     "output_type": "execute_result"
    }
   ],
   "source": [
    "model_tt_2.fit(X_train_2, y_train_2)"
   ]
  },
  {
   "cell_type": "code",
   "execution_count": 30,
   "id": "00597f4c",
   "metadata": {
    "execution": {
     "iopub.execute_input": "2022-08-28T11:19:55.595879Z",
     "iopub.status.busy": "2022-08-28T11:19:55.595428Z",
     "iopub.status.idle": "2022-08-28T11:19:55.600725Z",
     "shell.execute_reply": "2022-08-28T11:19:55.599649Z"
    },
    "papermill": {
     "duration": 0.02021,
     "end_time": "2022-08-28T11:19:55.602981",
     "exception": false,
     "start_time": "2022-08-28T11:19:55.582771",
     "status": "completed"
    },
    "tags": []
   },
   "outputs": [],
   "source": [
    "# Getting predicted values\n",
    "y_predict_tt_2 = model_tt_2.predict(X_test_2)"
   ]
  },
  {
   "cell_type": "code",
   "execution_count": 31,
   "id": "0ea518ca",
   "metadata": {
    "execution": {
     "iopub.execute_input": "2022-08-28T11:19:55.628484Z",
     "iopub.status.busy": "2022-08-28T11:19:55.628084Z",
     "iopub.status.idle": "2022-08-28T11:19:55.636518Z",
     "shell.execute_reply": "2022-08-28T11:19:55.635084Z"
    },
    "papermill": {
     "duration": 0.02436,
     "end_time": "2022-08-28T11:19:55.639139",
     "exception": false,
     "start_time": "2022-08-28T11:19:55.614779",
     "status": "completed"
    },
    "tags": []
   },
   "outputs": [
    {
     "name": "stdout",
     "output_type": "stream",
     "text": [
      "R2 Score: 1.0\n",
      "Root MSE: 1.757193718568e-08\n",
      "Coefficients: 0.6666666667133846\n",
      "Intercept: 3.2222222211143645\n"
     ]
    }
   ],
   "source": [
    "# Print the main metrics\n",
    "print(f'R2 Score: {r2_score(y_test_2, y_predict_tt_2)}')\n",
    "print(f'Root MSE: {np.sqrt(mean_squared_error(y_test_2, y_predict_tt_2))}')\n",
    "print(f'Coefficients: {model_tt_2.coef_[0]}')\n",
    "print(f'Intercept: {model_tt_2.intercept_}')"
   ]
  },
  {
   "cell_type": "code",
   "execution_count": 32,
   "id": "342348d6",
   "metadata": {
    "execution": {
     "iopub.execute_input": "2022-08-28T11:19:55.664935Z",
     "iopub.status.busy": "2022-08-28T11:19:55.664275Z",
     "iopub.status.idle": "2022-08-28T11:19:55.927904Z",
     "shell.execute_reply": "2022-08-28T11:19:55.926704Z"
    },
    "papermill": {
     "duration": 0.279859,
     "end_time": "2022-08-28T11:19:55.930836",
     "exception": false,
     "start_time": "2022-08-28T11:19:55.650977",
     "status": "completed"
    },
    "tags": []
   },
   "outputs": [
    {
     "data": {
      "image/png": "[encoded data removed]",
      "text/plain": [
       "<Figure size 1200x900 with 1 Axes>"
      ]
     },
     "metadata": {},
     "output_type": "display_data"
    }
   ],
   "source": [
    "# Let's plot the predicted data for all models and the initial data\n",
    "plt.figure(figsize=(12, 9))\n",
    "plt.scatter(X_all, y_all)\n",
    "plt.plot(X_test_2, y_predict_tt_2, color='yellow')\n",
    "plt.plot(X_test, y_predict_tt, color='red')\n",
    "plt.plot(X_all, y_predict, color='orange')\n",
    "plt.title('Compare the models', fontsize=18)\n",
    "plt.xlabel('X (independent)', fontsize=15)\n",
    "plt.ylabel('Y (dependent)', fontsize=15)\n",
    "plt.legend(['Dataset', 'Train/Test Split (Clear Dataset)', 'Train/Test Split', 'Train/Test on the same Dataset'], fontsize=12)\n",
    "plt.show()"
   ]
  },
  {
   "cell_type": "code",
   "execution_count": 33,
   "id": "619553e1",
   "metadata": {
    "papermill": {
     "duration": 0.012009,
     "end_time": "2022-08-28T11:19:55.955309",
     "exception": false,
     "start_time": "2022-08-28T11:19:55.943300",
     "status": "completed"
    },
    "tags": []
   },
   "outputs": [],
   "source": [
    "!jt -t grade3\n"
   ]
  },
  {
   "cell_type": "code",
   "execution_count": null,
   "id": "f45808d2",
   "metadata": {},
   "outputs": [],
   "source": []
  },
  {
   "cell_type": "code",
   "execution_count": null,
   "id": "97ad7c0b",
   "metadata": {},
   "outputs": [],
   "source": []
  },
  {
   "cell_type": "code",
   "execution_count": null,
   "id": "fbc01023",
   "metadata": {},
   "outputs": [],
   "source": []
  },
  {
   "cell_type": "code",
   "execution_count": null,
   "id": "ac3ece35",
   "metadata": {},
   "outputs": [],
   "source": []
  }
 ],
 "metadata": {
  "kernelspec": {
   "display_name": "Python 3 (ipykernel)",
   "language": "python",
   "name": "python3"
  },
  "language_info": {
   "codemirror_mode": {
    "name": "ipython",
    "version": 3
   },
   "file_extension": ".py",
   "mimetype": "text/x-python",
   "name": "python",
   "nbconvert_exporter": "python",
   "pygments_lexer": "ipython3",
   "version": "3.10.9"
  },
  "papermill": {
   "default_parameters": {},
   "duration": 14.641618,
   "end_time": "2022-08-28T11:19:56.790057",
   "environment_variables": {},
   "exception": null,
   "input_path": "__notebook__.ipynb",
   "output_path": "__notebook__.ipynb",
   "parameters": {},
   "start_time": "2022-08-28T11:19:42.148439",
   "version": "2.3.4"
  }
 },
 "nbformat": 4,
 "nbformat_minor": 5
}
